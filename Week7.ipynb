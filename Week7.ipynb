{
  "nbformat": 4,
  "nbformat_minor": 0,
  "metadata": {
    "colab": {
      "name": "Week7.ipynb",
      "provenance": [],
      "collapsed_sections": [],
      "authorship_tag": "ABX9TyNtPKCX+kCSgR+F+wosFtk1",
      "include_colab_link": true
    },
    "kernelspec": {
      "name": "python3",
      "display_name": "Python 3"
    },
    "language_info": {
      "name": "python"
    }
  },
  "cells": [
    {
      "cell_type": "markdown",
      "metadata": {
        "id": "view-in-github",
        "colab_type": "text"
      },
      "source": [
        "<a href=\"https://colab.research.google.com/github/ALVIRAHMADHANI01/PCVK_GENAP_2021/blob/main/Week7.ipynb\" target=\"_parent\"><img src=\"https://colab.research.google.com/assets/colab-badge.svg\" alt=\"Open In Colab\"/></a>"
      ]
    },
    {
      "cell_type": "markdown",
      "source": [
        "**NAMA     : ALVI RAHMADHANI**\n",
        "\n",
        "**KELAS    : TI-3G**\n",
        "\n",
        "**NO ABSEN : 04**\n",
        "\n",
        "**NIM      : 1941720159**\n",
        "\n",
        "**JOBSHEET : PERTEMUAN 7**"
      ],
      "metadata": {
        "id": "qCwWBUEu5CXr"
      }
    },
    {
      "cell_type": "code",
      "execution_count": 1,
      "metadata": {
        "colab": {
          "base_uri": "https://localhost:8080/"
        },
        "id": "HtFLEKIM4jaK",
        "outputId": "82b4180b-5e3a-4cf7-d290-15d38c3843f6"
      },
      "outputs": [
        {
          "output_type": "stream",
          "name": "stdout",
          "text": [
            "Mounted at /content/drive\n"
          ]
        }
      ],
      "source": [
        "from google.colab import drive\n",
        "drive.mount('/content/drive')"
      ]
    },
    {
      "cell_type": "code",
      "source": [
        "import numpy as np\n",
        "import matplotlib.pyplot as plt\n",
        "import cv2 as cv\n",
        "import math\n",
        "from google.colab.patches import cv2_imshow\n",
        "from PIL import Image as im"
      ],
      "metadata": {
        "id": "RW1apbkW58XS"
      },
      "execution_count": 2,
      "outputs": []
    },
    {
      "cell_type": "markdown",
      "source": [
        "**PEMBUATAN CONVOLUTION**"
      ],
      "metadata": {
        "id": "yu2M0fNV6jtm"
      }
    },
    {
      "cell_type": "code",
      "source": [
        "def convolution2d(image, kernel, stride, padding):\n",
        "\n",
        "  image = np.pad(image, padding, mode='constant', constant_values=0)\n",
        "  \n",
        "  kernel_height, kernel_width = kernel.shape\n",
        "  padded_height, padded_width = image.shape\n",
        "\n",
        "  output_height = (padded_height - kernel_height) // stride + 1\n",
        "  output_width = (padded_width - kernel_width) // stride + 1\n",
        "  \n",
        "  new_image = np.zeros((output_height, output_width)).astype(np.float32)\n",
        "  \n",
        "  # convolution process\n",
        "  for y in range(0, output_height):\n",
        "    for x in range(0, output_width):\n",
        "      new_image[y][x] = np.sum(image[y * stride:y * stride + kernel_height, x * stride:x * stride + kernel_width] * kernel).astype(np.float32)\n",
        "      \n",
        "  return new_image"
      ],
      "metadata": {
        "id": "0O5SWhsG6YlV"
      },
      "execution_count": 3,
      "outputs": []
    },
    {
      "cell_type": "markdown",
      "source": [
        "**LOAD IMAGE AND CHANGE TO GRAYSCALE**"
      ],
      "metadata": {
        "id": "gFYl6QDf60l3"
      }
    },
    {
      "cell_type": "code",
      "source": [
        "img_m = cv.imread('/content/drive/MyDrive/PCVK_MM/Images/mandrill.tiff')\n",
        "img_s = cv.resize(img_m, (0,0), fx=0.5, fy=0.5)\n",
        "img_gray = cv.cvtColor(img_s, cv.COLOR_BGR2GRAY)"
      ],
      "metadata": {
        "id": "t6NKRuyN7CHE"
      },
      "execution_count": 4,
      "outputs": []
    },
    {
      "cell_type": "markdown",
      "source": [
        "**MENENTUKAN KERNEL DAN MEMANGGIL FUNGSI CONVOLUTION**"
      ],
      "metadata": {
        "id": "PUYsgWch7iyl"
      }
    },
    {
      "cell_type": "code",
      "source": [
        "#SHARPEN\n",
        "\n",
        "sharpen = np.array([[0, -1, 0],\n",
        "                    [-1, 5, -1],\n",
        "                    [0, -1, 0]])\n",
        "cv2_imshow(convolution2d(img_gray, sharpen,1,0))"
      ],
      "metadata": {
        "colab": {
          "base_uri": "https://localhost:8080/",
          "height": 101
        },
        "id": "MrwXQwGn7QvN",
        "outputId": "42a2e7c0-a6d1-43fb-f34c-c5d39274f1e3"
      },
      "execution_count": 5,
      "outputs": [
        {
          "output_type": "display_data",
          "data": {
            "text/plain": [
              "<PIL.Image.Image image mode=L size=84x84 at 0x7FC08E7C24D0>"
            ],
            "image/png": "[encoded data removed]"
          },
          "metadata": {}
        }
      ]
    },
    {
      "cell_type": "code",
      "source": [
        "#EMBOSS\n",
        "\n",
        "emboss = np.array([[-2, -1, 0],\n",
        "                   [-1, 1, 1],\n",
        "                   [0, 1, 2]])\n",
        "cv2_imshow(convolution2d(img_gray, emboss,1,0))"
      ],
      "metadata": {
        "colab": {
          "base_uri": "https://localhost:8080/",
          "height": 101
        },
        "id": "QuYvmojF7yK-",
        "outputId": "c560d0d2-567f-4445-a660-8918ea7d9bac"
      },
      "execution_count": 6,
      "outputs": [
        {
          "output_type": "display_data",
          "data": {
            "text/plain": [
              "<PIL.Image.Image image mode=L size=84x84 at 0x7FC08E7C22D0>"
            ],
            "image/png": "[encoded data removed]"
          },
          "metadata": {}
        }
      ]
    },
    {
      "cell_type": "code",
      "source": [
        "#Left Sobel Edge Detection\n",
        "\n",
        "leftsobeledge = np.array([[1, 0, -1],\n",
        "                          [2, 0, -2],\n",
        "                          [1, 0, -1]])\n",
        "cv2_imshow(convolution2d(img_gray, leftsobeledge,1,0))"
      ],
      "metadata": {
        "colab": {
          "base_uri": "https://localhost:8080/",
          "height": 101
        },
        "id": "5zFsuo7x72ym",
        "outputId": "399e0348-8512-4608-9076-6e0674924aab"
      },
      "execution_count": 7,
      "outputs": [
        {
          "output_type": "display_data",
          "data": {
            "text/plain": [
              "<PIL.Image.Image image mode=L size=84x84 at 0x7FC08555DD50>"
            ],
            "image/png": "[encoded data removed]"
          },
          "metadata": {}
        }
      ]
    },
    {
      "cell_type": "code",
      "source": [
        "#Canny Edge Detection\n",
        "\n",
        "cannyedge = np.array([[-1, -1, -1],\n",
        "                      [-1, 8, -1],\n",
        "                      [-1, -1, -1]])\n",
        "cv2_imshow(convolution2d(img_gray, cannyedge,1,0))"
      ],
      "metadata": {
        "colab": {
          "base_uri": "https://localhost:8080/",
          "height": 101
        },
        "id": "8zWElAE6742X",
        "outputId": "d3e0e800-aa77-49c7-cdeb-2c0866f7ab96"
      },
      "execution_count": 8,
      "outputs": [
        {
          "output_type": "display_data",
          "data": {
            "text/plain": [
              "<PIL.Image.Image image mode=L size=84x84 at 0x7FC0854E7910>"
            ],
            "image/png": "[encoded data removed]"
          },
          "metadata": {}
        }
      ]
    },
    {
      "cell_type": "code",
      "source": [
        "#21x21 Guassian Blur\n",
        "\n",
        "kernel_size = 21\n",
        "sigma=math.sqrt(kernel_size)\n",
        "guassian_kernel = cv.getGaussianKernel(kernel_size, sigma)\n",
        "gauss_kernel = guassian_kernel @guassian_kernel.transpose()\n",
        "cv2_imshow(convolution2d(img_gray, gauss_kernel,1,0))"
      ],
      "metadata": {
        "colab": {
          "base_uri": "https://localhost:8080/",
          "height": 83
        },
        "id": "95T3b0ei7_AM",
        "outputId": "a5b300e4-67f0-4fe9-a78f-9a5506045bcd"
      },
      "execution_count": 9,
      "outputs": [
        {
          "output_type": "display_data",
          "data": {
            "text/plain": [
              "<PIL.Image.Image image mode=L size=66x66 at 0x7FC0854ED510>"
            ],
            "image/png": "[encoded data removed]"
          },
          "metadata": {}
        }
      ]
    }
  ]
}